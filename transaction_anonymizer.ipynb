{
 "cells": [
  {
   "cell_type": "code",
   "execution_count": 2,
   "metadata": {},
   "outputs": [],
   "source": [
    "import pandas as pd\n",
    "import numpy as np\n",
    "\n",
    "import os\n",
    "\n",
    "csv_file_list = []\n",
    "for i in os.listdir():\n",
    "    if '.csv' in i.lower():\n",
    "        csv_file_list.append(i)\n",
    "\n",
    "tdf = pd.DataFrame()\n",
    "\n",
    "for num, file in enumerate(csv_file_list):\n",
    "    tdf = pd.read_csv(file, index_col=False)\n",
    "\n",
    "    if 'fidelity' in file:\n",
    "       tdf = tdf.rename(columns={'Name':'Description'})\n",
    "    else:\n",
    "        continue\n",
    "\n",
    "    cond = [tdf['Description'].str.contains('amex',case=False),\n",
    "            tdf['Description'].str.contains('wellmore',case=False),\n",
    "            tdf['Description'].str.contains('glanbia',case=False),\n",
    "            ]\n",
    "\n",
    "    choice = [tdf['Description'],\n",
    "              'Work location 1',\n",
    "              'Work location 2',\n",
    "              ]\n",
    "\n",
    "    default_cond = tdf['Description'].str.replace(r'\\d+','',regex=True).str.replace(r'\\s+',\" \", regex=True)\n",
    "\n",
    "    tdf.loc[:,'Description'] = np.select(condlist=cond,choicelist=choice,default=default_cond)\n",
    "\n",
    "    list_of_drop_columns = ['Card Member','Reference','Balance','Appears On Your Statement As', 'Unnamed: 0']\n",
    "\n",
    "    for item in list_of_drop_columns:\n",
    "        if item in tdf.columns:\n",
    "            tdf = tdf.drop(columns=item)\n",
    "        else:\n",
    "            continue\n",
    "\n",
    "    \n",
    "    file_name = str(file)\n",
    "    file_name_split = file_name.split('_')\n",
    "    file_name_split[2] = '111'+str(num)\n",
    "    new_file_name = '_'.join(file_name_split)\n",
    "    tdf.to_csv(new_file_name, index=False)"
   ]
  },
  {
   "cell_type": "code",
   "execution_count": null,
   "metadata": {},
   "outputs": [],
   "source": []
  }
 ],
 "metadata": {
  "kernelspec": {
   "display_name": "myenv",
   "language": "python",
   "name": "python3"
  },
  "language_info": {
   "codemirror_mode": {
    "name": "ipython",
    "version": 3
   },
   "file_extension": ".py",
   "mimetype": "text/x-python",
   "name": "python",
   "nbconvert_exporter": "python",
   "pygments_lexer": "ipython3",
   "version": "3.8.8"
  }
 },
 "nbformat": 4,
 "nbformat_minor": 2
}
